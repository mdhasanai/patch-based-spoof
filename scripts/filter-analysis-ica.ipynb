{
 "cells": [
  {
   "cell_type": "code",
   "execution_count": 1,
   "metadata": {},
   "outputs": [],
   "source": [
    "import cv2\n",
    "import glob\n",
    "import numpy as np\n",
    "import matplotlib.pyplot as plt\n",
    "from skimage.util.shape import view_as_windows\n",
    "from sklearn.decomposition import PCA, FastICA\n",
    "import pandas as pd\n",
    "# from pandas.tools.plotting import scatter_matrix\n",
    "from sklearn.manifold import TSNE\n",
    "import seaborn as sns\n",
    "import random\n",
    "import os\n",
    "\n",
    "%matplotlib inline"
   ]
  },
  {
   "cell_type": "markdown",
   "metadata": {},
   "source": [
    "### Add paths"
   ]
  },
  {
   "cell_type": "code",
   "execution_count": 2,
   "metadata": {},
   "outputs": [],
   "source": [
    "path = '../datasets/spoof-data/dataset/Test'\n",
    "# /media/labiba/New Volume/Experiments/gaze-research/datasets/spoof-data/siw/Test"
   ]
  },
  {
   "cell_type": "code",
   "execution_count": 3,
   "metadata": {},
   "outputs": [
    {
     "name": "stdout",
     "output_type": "stream",
     "text": [
      "33763 26449\n"
     ]
    },
    {
     "data": {
      "text/plain": [
       "(100, 100, 200)"
      ]
     },
     "execution_count": 3,
     "metadata": {},
     "output_type": "execute_result"
    }
   ],
   "source": [
    "spoof = glob.glob(f\"{path}/spoof/*\")\n",
    "live = glob.glob(f\"{path}/live/*\")\n",
    "print(len(spoof), len(live))\n",
    "spoof = list(np.random.choice(spoof, 100))\n",
    "live = list(np.random.choice(live, 100))\n",
    "combined = spoof + live\n",
    "len(spoof), len(live), len(combined)"
   ]
  },
  {
   "cell_type": "code",
   "execution_count": 4,
   "metadata": {},
   "outputs": [],
   "source": [
    "def resize_image(img, save=False):\n",
    "    img = cv2.resize(img, (224, 224))\n",
    "    if save:\n",
    "        cv2.imwrite(im_path, img)\n",
    "    return img\n",
    "\n",
    "def resize_all_images(data_folder):\n",
    "    for im_path in data_folder:\n",
    "        img = cv2.imread(im_path)\n",
    "        img = cv2.resize(img, (224, 224))\n",
    "        cv2.imwrite(im_path, img)"
   ]
  },
  {
   "cell_type": "code",
   "execution_count": 5,
   "metadata": {},
   "outputs": [],
   "source": [
    "def fetch_images_flattened(data_folder):\n",
    "    flat_imgs = []\n",
    "    for im_path in data_folder:\n",
    "        \n",
    "        img = cv2.imread(im_path)\n",
    "        if img is not None:\n",
    "            flat = img.flatten()\n",
    "            flat_imgs.append(flat)\n",
    "        \n",
    "    return np.array(flat_imgs)\n",
    "\n",
    "# spoof_array = fetch_images_flattened(spoof)\n",
    "# live_array = fetch_images_flattened(live)"
   ]
  },
  {
   "cell_type": "code",
   "execution_count": 6,
   "metadata": {},
   "outputs": [],
   "source": [
    "def flatten_single_patch(patch_grid):\n",
    "    flattened_patch_grid = []\n",
    "    for patch_row in patch_grid:\n",
    "        for patch_col in patch_row:\n",
    "            flattened_patch_grid.append(patch_col.flatten())\n",
    "    flattened_patch_grid = np.array(flattened_patch_grid)\n",
    "    return flattened_patch_grid\n",
    "def divide_single_img_into_patches(im_path, color_mode, patch_size=(7, 7, 3), step=7):\n",
    "    if color_mode == 'gray':\n",
    "        img = cv2.imread(im_path, 0)\n",
    "    else:\n",
    "        img = cv2.imread(im_path)\n",
    "    if img is not None:\n",
    "        img = resize_image(img)\n",
    "#     print(img.shape, len(patch_size))\n",
    "        patch_grid = view_as_windows(img, patch_size, step)\n",
    "    \n",
    "#     print(flattened_patch_grid.shape)\n",
    "        return flatten_single_patch(patch_grid)\n",
    "\n",
    "def divide_all_into_patches(data_folder, color_mode='rgb'):\n",
    "    patch_grids = []\n",
    "    for im_path in data_folder:\n",
    "        if color_mode == 'gray':\n",
    "            patch_size = (3, 3)\n",
    "        else:\n",
    "            patch_size = (3, 3, 3)\n",
    "        patch_grids.append(divide_single_img_into_patches(im_path, patch_size=patch_size, color_mode=color_mode))\n",
    "    print(len(patch_grids))\n",
    "    patch_grids = list(filter(None.__ne__, patch_grids))\n",
    "    return np.array(patch_grids)\n",
    "\n",
    "# patch_grids_spoof = divide_all_into_patches(spoof)\n",
    "# patch_grids_live = divide_all_into_patches(live)\n",
    "# patch_grids_combined = np.concatenate((patch_grids_spoof, patch_grids_live), axis=0)\n",
    "# patch_grids_live.shape, patch_grids_spoof.shape, patch_grids_combined.shape"
   ]
  },
  {
   "cell_type": "markdown",
   "metadata": {},
   "source": [
    "### pca analaysis of the data"
   ]
  },
  {
   "cell_type": "code",
   "execution_count": 7,
   "metadata": {},
   "outputs": [],
   "source": [
    "def find_separable_filters(data_folder, do_pca=False, color_mode='gray', get_filter=False):\n",
    "    \n",
    "    patch_grids = divide_all_into_patches(data_folder, color_mode)\n",
    "    if color_mode == 'gray':\n",
    "        dim = 9\n",
    "    else:\n",
    "        dim = 27\n",
    "    if do_pca:\n",
    "        pca = PCA(.99)\n",
    "        pca.fit(patch_grids.reshape(-1, dim))\n",
    "        patch_grids = pca.transform(patch_grids.reshape(-1, dim))\n",
    "    print(patch_grids.shape)\n",
    "    \n",
    "    fast_ica = FastICA(n_components=None)\n",
    "    fast_ica.fit(patch_grids.reshape(-1, dim))\n",
    "    if get_filter:\n",
    "        return fast_ica.components_\n",
    "#     print(fast_ica.components_.shape)\n",
    "#     print(fast_ica.transform(patch_grids.reshape(-1, dim)).shape)\n",
    "    if do_pca:\n",
    "        tsne_input = pca.inverse_transform(fast_ica.components_)\n",
    "    else:\n",
    "        tsne_input = fast_ica.components_\n",
    "    tsne = TSNE(n_components=2, verbose=0, perplexity=40, n_iter=300)\n",
    "    tsne_output = tsne.fit_transform(tsne_input)\n",
    "    print(f\"T-sne shape {tsne_output.shape}\")\n",
    "    return tsne_output"
   ]
  },
  {
   "cell_type": "code",
   "execution_count": 8,
   "metadata": {},
   "outputs": [],
   "source": [
    "def plot_tsne_figure(tsne_live, tsne_spoof, tsne_combined):\n",
    "    fig=plt.figure()\n",
    "    ax=fig.add_axes([0,0,1,1])\n",
    "    ax.scatter(tsne_live[:,0], tsne_live[:,1], color='r')\n",
    "    ax.scatter(tsne_spoof[:,0], tsne_spoof[:,1], color='g')\n",
    "    ax.scatter(tsne_combined[:,0], tsne_combined[:,1], color='b')\n",
    "    ax.set_xlabel('tsne-1')\n",
    "    ax.set_ylabel('tsne-2')\n",
    "    ax.set_title('scatter plot')\n",
    "    plt.show()"
   ]
  },
  {
   "cell_type": "markdown",
   "metadata": {},
   "source": [
    "### For gray mode"
   ]
  },
  {
   "cell_type": "markdown",
   "metadata": {},
   "source": [
    "#### Without pca"
   ]
  },
  {
   "cell_type": "code",
   "execution_count": 9,
   "metadata": {},
   "outputs": [],
   "source": [
    "# tsne_spoof_gray = find_separable_filters(spoof)\n",
    "# tsne_live_gray = find_separable_filters(live)\n",
    "# tsne_combined_gray = find_separable_filters(combined)\n",
    "# plot_tsne_figure(tsne_live_gray, tsne_spoof_gray, tsne_combined_gray)"
   ]
  },
  {
   "cell_type": "markdown",
   "metadata": {},
   "source": [
    "#### With pca"
   ]
  },
  {
   "cell_type": "code",
   "execution_count": 10,
   "metadata": {},
   "outputs": [],
   "source": [
    "# tsne_spoof_gray_pca = find_separable_filters(spoof, do_pca=True)\n",
    "# tsne_live_gray_pca = find_separable_filters(live, do_pca=True)\n",
    "# tsne_combined_gray_pca = find_separable_filters(combined, do_pca=True)\n",
    "# plot_tsne_figure(tsne_live_gray_pca, tsne_spoof_gray_pca, tsne_combined_gray_pca)"
   ]
  },
  {
   "cell_type": "markdown",
   "metadata": {},
   "source": [
    "### For rgb mode"
   ]
  },
  {
   "cell_type": "code",
   "execution_count": 11,
   "metadata": {},
   "outputs": [],
   "source": [
    "# tsne_spoof_rgb = find_separable_filters(spoof, color_mode='rgb')\n",
    "# tsne_live_rgb = find_separable_filters(live, color_mode='rgb')\n",
    "# tsne_combined_rgb = find_separable_filters(combined, color_mode='rgb')\n",
    "# plot_tsne_figure(tsne_live_rgb, tsne_spoof_rgb, tsne_combined_rgb)"
   ]
  },
  {
   "cell_type": "code",
   "execution_count": 12,
   "metadata": {},
   "outputs": [
    {
     "name": "stdout",
     "output_type": "stream",
     "text": [
      "100\n",
      "(100, 1024, 27)\n",
      "100\n",
      "(100, 1024, 27)\n",
      "200\n",
      "(200, 1024, 27)\n"
     ]
    },
    {
     "data": {
      "text/plain": [
       "((27, 27), (27, 27), (27, 27))"
      ]
     },
     "execution_count": 12,
     "metadata": {},
     "output_type": "execute_result"
    }
   ],
   "source": [
    "spoof_components = find_separable_filters(spoof, color_mode='rgb', get_filter=True)\n",
    "live_components = find_separable_filters(live, color_mode='rgb', get_filter=True)\n",
    "combined_components = find_separable_filters(combined, color_mode='rgb', get_filter=True)\n",
    "spoof_components.shape, live_components.shape, combined_components.shape"
   ]
  },
  {
   "cell_type": "code",
   "execution_count": 13,
   "metadata": {},
   "outputs": [],
   "source": [
    "def save_ica_filters(components, save_path=\"filters/33\"):\n",
    "    all_filters = []\n",
    "    for key in components.keys():\n",
    "        \n",
    "        key_path = f\"{save_path}/{key}\"\n",
    "        i = 0\n",
    "        filters = []\n",
    "        print(components[key].shape)\n",
    "        for com in components[key]:\n",
    "#             print(com)\n",
    "            filter = minmax_scale(com.flatten(), feature_range=(0, 1)).reshape((3, 3, 3))\n",
    "            filters.append(com)\n",
    "            cv2.imwrite(f\"{key_path}/{i}.jpg\", filter*255)\n",
    "            i += 1\n",
    "        np.save(f\"{save_path}/{key}_filters.npy\", np.array(filters))\n",
    "        all_filters.append(np.array(filters))\n",
    "    return np.array(all_filters)"
   ]
  },
  {
   "cell_type": "code",
   "execution_count": 14,
   "metadata": {},
   "outputs": [
    {
     "name": "stdout",
     "output_type": "stream",
     "text": [
      "(27, 3, 3, 3)\n",
      "(27, 3, 3, 3)\n",
      "(27, 3, 3, 3)\n"
     ]
    },
    {
     "data": {
      "text/plain": [
       "(3, 27, 3, 3, 3)"
      ]
     },
     "execution_count": 14,
     "metadata": {},
     "output_type": "execute_result"
    }
   ],
   "source": [
    "from sklearn.preprocessing import minmax_scale\n",
    "components = {\"spoof\": spoof_components.reshape((-1, 3, 3, 3)), \"live\": live_components.reshape((-1, 3, 3, 3)), \"combined\": combined_components.reshape((-1, 3, 3, 3))}\n",
    "all_filters = save_ica_filters(components)\n",
    "all_filters.shape"
   ]
  },
  {
   "cell_type": "markdown",
   "metadata": {},
   "source": [
    "### making a convnet"
   ]
  },
  {
   "cell_type": "code",
   "execution_count": 1,
   "metadata": {},
   "outputs": [],
   "source": [
    "import torch \n",
    "import torchvision\n",
    "from torchvision import transforms\n",
    "import numpy as np\n",
    "import matplotlib.pyplot as plt"
   ]
  },
  {
   "cell_type": "code",
   "execution_count": 2,
   "metadata": {},
   "outputs": [],
   "source": [
    "combined_filters = np.load(\"filters/33/combined_filters.npy\")\n",
    "spoof_filters = np.load(\"filters/33/spoof_filters.npy\")\n",
    "live_filters = np.load(\"filters/33/live_filters.npy\")"
   ]
  },
  {
   "cell_type": "code",
   "execution_count": 3,
   "metadata": {},
   "outputs": [],
   "source": [
    "class TestingModel(torch.nn.Module):\n",
    "    def __init__(self, filters, set_weights=True):\n",
    "        super(TestingModel, self).__init__()\n",
    "        self.conv1 = torch.nn.Conv2d(3, 27, 3)\n",
    "        if set_weights:\n",
    "            self.conv1.weight.data = torch.nn.Parameter(torch.tensor(filters).float())\n",
    "            \n",
    "        self.conv2 = torch.nn.Conv2d(27, 128, 4, stride=2)\n",
    "        self.fc = torch.nn.Linear(1548800, 1)\n",
    "        self.relu = torch.nn.ReLU()\n",
    "#         self.sigmoid = torch.sigmoid()\n",
    "    def forward(self, x):\n",
    "        # self.conv1.weights\n",
    "#         print(x.shape)\n",
    "        x = self.relu(self.conv1(x))\n",
    "        x = self.relu(self.conv2(x))\n",
    "#         print(x.shape)\n",
    "        x = x.view(-1, 128*110*110)\n",
    "#         print(x.shape)\n",
    "        x = torch.sigmoid(self.fc(x))\n",
    "\n",
    "        return x"
   ]
  },
  {
   "cell_type": "code",
   "execution_count": 4,
   "metadata": {},
   "outputs": [],
   "source": [
    "# import glob\n",
    "# from PIL import Image\n",
    "# import PIL\n",
    "# import cv2\n",
    "# train = \"datasets/spoof-data/dataset/Train\"\n",
    "# val = \"datasets/spoof-data/dataset/Test\"\n",
    "# train_imgs = glob.glob(f\"{train}/**/*.png\", recursive=True)\n",
    "# val_imgs = glob.glob(f\"{val}/**/*.png\", recursive=True)\n",
    "# print(len(train_imgs), len(val_imgs))\n",
    "# import os\n",
    "\n",
    "# def remove_none_images(img_list):\n",
    "#     for filename in img_list:\n",
    "#         try:\n",
    "# #             im = Image.open(filename)\n",
    "# #             im.verify() #I perform also verify, don't know if he sees other types o defects\n",
    "# #             im.close() #reload is necessary in my case\n",
    "# #             im = Image.open(filename) \n",
    "# #             im.transpose(PIL.Image.FLIP_LEFT_RIGHT)\n",
    "# #             im.close()\n",
    "#             im = cv2.imread(filename)\n",
    "#             if im is None:\n",
    "#                 print(filename)\n",
    "#                 os.remove(filename)\n",
    "#         except Exception as e: \n",
    "# #             os.remove(filename)\n",
    "#             print(e)\n",
    "# #     return img_list\n",
    "# remove_none_images(train_imgs), remove_none_images(val_imgs)\n",
    "# train_imgs = glob.glob(f\"{train}/**/*.png\", recursive=True)\n",
    "# val_imgs = glob.glob(f\"{val}/**/*.png\", recursive=True)\n",
    "# print(len(train_imgs), len(val_imgs))"
   ]
  },
  {
   "cell_type": "code",
   "execution_count": 5,
   "metadata": {},
   "outputs": [],
   "source": [
    "train = \"../datasets/spoof-data/dataset/Train\"\n",
    "val = \"../datasets/spoof-data/dataset/Test\"\n",
    "transform = transforms.Compose([transforms.Resize((224, 224)), transforms.ToTensor()])\n",
    "def load_dataset(data_path, shuffle, transform):\n",
    "    dataset = torchvision.datasets.ImageFolder(\n",
    "        root=data_path,\n",
    "        transform=transform\n",
    "    )\n",
    "#     print(dataset[0])\n",
    "    data_loader = torch.utils.data.DataLoader(\n",
    "        dataset,\n",
    "        batch_size=32,\n",
    "        num_workers=16,\n",
    "        shuffle=shuffle\n",
    "    )\n",
    "    return data_loader\n",
    "\n",
    "train_loader = load_dataset(train, True, transform)\n",
    "val_loader = load_dataset(val, False, transform)"
   ]
  },
  {
   "cell_type": "code",
   "execution_count": 6,
   "metadata": {},
   "outputs": [],
   "source": [
    "ica_combined_model = TestingModel(combined_filters).cuda()\n",
    "random_model = TestingModel(combined_filters, set_weights=False).cuda()\n",
    "# ica_spoof_model = TestingModel(sp_filters).cuda()\n",
    "# ica_combined_model = TestingModel(combined_filters).cuda()"
   ]
  },
  {
   "cell_type": "code",
   "execution_count": 7,
   "metadata": {},
   "outputs": [],
   "source": [
    "bce_loss = torch.nn.BCELoss()\n",
    "ica_optimizer = torch.optim.Adam(ica_combined_model.parameters())\n",
    "random_optimizer = torch.optim.Adam(random_model.parameters())"
   ]
  },
  {
   "cell_type": "code",
   "execution_count": 8,
   "metadata": {},
   "outputs": [],
   "source": [
    "dataiter = iter(train_loader)\n",
    "im, lab = dataiter.next()"
   ]
  },
  {
   "cell_type": "markdown",
   "metadata": {},
   "source": [
    "## Spoof: 1, Non-spoof: 0"
   ]
  },
  {
   "cell_type": "code",
   "execution_count": 9,
   "metadata": {},
   "outputs": [
    {
     "name": "stdout",
     "output_type": "stream",
     "text": [
      "tensor(0)\n"
     ]
    },
    {
     "data": {
      "image/png": "[encoded data removed]",
      "text/plain": [
       "<Figure size 432x288 with 1 Axes>"
      ]
     },
     "metadata": {
      "needs_background": "light"
     },
     "output_type": "display_data"
    }
   ],
   "source": [
    "print(lab[3])\n",
    "plt.imshow(np.transpose(im[3], (1, 2, 0)))\n",
    "plt.show()"
   ]
  },
  {
   "cell_type": "code",
   "execution_count": 10,
   "metadata": {},
   "outputs": [
    {
     "name": "stdout",
     "output_type": "stream",
     "text": [
      "Evaluating the model...\n",
      "51645 60224\n",
      "validation accuracy 85.75%\n",
      "training accuracy 88.18%\n"
     ]
    },
    {
     "ename": "NameError",
     "evalue": "name 'prev_loss' is not defined",
     "output_type": "error",
     "traceback": [
      "\u001b[0;31m---------------------------------------------------------------------------\u001b[0m",
      "\u001b[0;31mNameError\u001b[0m                                 Traceback (most recent call last)",
      "\u001b[0;32m<ipython-input-10-e3a918fd3958>\u001b[0m in \u001b[0;36m<module>\u001b[0;34m\u001b[0m\n\u001b[1;32m     49\u001b[0m             \u001b[0mep\u001b[0m \u001b[0;34m=\u001b[0m \u001b[0mi\u001b[0m\u001b[0;34m\u001b[0m\u001b[0;34m\u001b[0m\u001b[0m\n\u001b[1;32m     50\u001b[0m     \u001b[0;32mreturn\u001b[0m \u001b[0mbest_model\u001b[0m\u001b[0;34m\u001b[0m\u001b[0;34m\u001b[0m\u001b[0m\n\u001b[0;32m---> 51\u001b[0;31m \u001b[0mtrain_model\u001b[0m\u001b[0;34m(\u001b[0m\u001b[0mica_combined_model\u001b[0m\u001b[0;34m,\u001b[0m \u001b[0mica_optimizer\u001b[0m\u001b[0;34m,\u001b[0m \u001b[0;36m1\u001b[0m\u001b[0;34m)\u001b[0m\u001b[0;34m\u001b[0m\u001b[0;34m\u001b[0m\u001b[0m\n\u001b[0m",
      "\u001b[0;32m<ipython-input-10-e3a918fd3958>\u001b[0m in \u001b[0;36mtrain_model\u001b[0;34m(model, optimizer, epochs)\u001b[0m\n\u001b[1;32m     43\u001b[0m         \u001b[0mmodel\u001b[0m\u001b[0;34m.\u001b[0m\u001b[0mtrain\u001b[0m\u001b[0;34m(\u001b[0m\u001b[0;34m)\u001b[0m\u001b[0;34m\u001b[0m\u001b[0;34m\u001b[0m\u001b[0m\n\u001b[1;32m     44\u001b[0m         \u001b[0mprint\u001b[0m\u001b[0;34m(\u001b[0m\u001b[0;34mf\"training accuracy {(corrects/total)*100:.2f}%\"\u001b[0m\u001b[0;34m)\u001b[0m\u001b[0;34m\u001b[0m\u001b[0;34m\u001b[0m\u001b[0m\n\u001b[0;32m---> 45\u001b[0;31m         \u001b[0;32mif\u001b[0m \u001b[0mprev_loss\u001b[0m \u001b[0;34m>\u001b[0m \u001b[0;34m(\u001b[0m\u001b[0mtotal_loss\u001b[0m\u001b[0;34m)\u001b[0m\u001b[0;34m/\u001b[0m\u001b[0;34m(\u001b[0m\u001b[0mlen\u001b[0m\u001b[0;34m(\u001b[0m\u001b[0mtrain_loader\u001b[0m\u001b[0;34m)\u001b[0m\u001b[0;34m)\u001b[0m\u001b[0;34m:\u001b[0m\u001b[0;34m\u001b[0m\u001b[0;34m\u001b[0m\u001b[0m\n\u001b[0m\u001b[1;32m     46\u001b[0m             \u001b[0mprint\u001b[0m\u001b[0;34m(\u001b[0m\u001b[0;34mf\"Best loss in epoch {i} is {(total_loss)/(len(train_loader))}\"\u001b[0m\u001b[0;34m)\u001b[0m\u001b[0;34m\u001b[0m\u001b[0;34m\u001b[0m\u001b[0m\n\u001b[1;32m     47\u001b[0m             \u001b[0mbest_model\u001b[0m \u001b[0;34m=\u001b[0m \u001b[0mmodel\u001b[0m\u001b[0;34m\u001b[0m\u001b[0;34m\u001b[0m\u001b[0m\n",
      "\u001b[0;31mNameError\u001b[0m: name 'prev_loss' is not defined"
     ]
    }
   ],
   "source": [
    "def eval_model(model):\n",
    "    corrects = 0 \n",
    "    total = 0\n",
    "    for idx, (im, label) in enumerate(val_loader):\n",
    "        im = im.cuda()\n",
    "        label = label.float().cuda()\n",
    "        out = model(im)\n",
    "        preds = (out.data.detach().cpu().numpy() > .5).astype(np.uint8).squeeze(1)\n",
    "        targets = label.detach().cpu().numpy()\n",
    "        corrects += np.sum(preds==targets)\n",
    "        total += 32\n",
    "    print(corrects, total)\n",
    "    print(f\"validation accuracy {(corrects/total)*100:.2f}%\")\n",
    "    \n",
    "def train_model(model, optimizer, epochs):\n",
    "    prev_best = 9999999999\n",
    "    ep = 0\n",
    "    total_loss = 0\n",
    "    for i in range(epochs):\n",
    "        corrects = 0 \n",
    "        total = 0\n",
    "        for idx, (im, label) in enumerate(train_loader):\n",
    "            im = im.cuda()\n",
    "            label = label.float().cuda()\n",
    "            \n",
    "            optimizer.zero_grad()\n",
    "            \n",
    "            out = model(im)\n",
    "#             print(label.shape, out.shape)\n",
    "            preds = (out.data.detach().cpu().numpy() > .5).astype(np.uint8).squeeze(1)\n",
    "            targets = label.detach().cpu().numpy()\n",
    "            corrects += np.sum(preds==targets)\n",
    "            total += 32\n",
    "            out = out.squeeze(1)\n",
    "            loss = bce_loss(out, label)\n",
    "            loss.backward()\n",
    "            optimizer.step()\n",
    "            total_loss += loss\n",
    "#             if idx % 20 == 0:\n",
    "        print(\"Evaluating the model...\")\n",
    "        model.eval()\n",
    "        eval_model(model)\n",
    "        model.train()\n",
    "        print(f\"training accuracy {(corrects/total)*100:.2f}%\")\n",
    "        if prev_best > (total_loss)/(len(train_loader)):\n",
    "            print(f\"Best loss in epoch {i} is {(total_loss)/(len(train_loader))}\")\n",
    "            best_model = model\n",
    "            prev_best = (total_loss)/(len(train_loader))\n",
    "            ep = i\n",
    "    return best_model\n",
    "train_model(ica_combined_model, ica_optimizer, 1)"
   ]
  },
  {
   "cell_type": "code",
   "execution_count": null,
   "metadata": {},
   "outputs": [],
   "source": [
    "torch.save(f'best-model-{ep}.pth', model)"
   ]
  },
  {
   "cell_type": "code",
   "execution_count": 48,
   "metadata": {},
   "outputs": [],
   "source": [
    "d = np.zeros((128,))"
   ]
  },
  {
   "cell_type": "code",
   "execution_count": 49,
   "metadata": {},
   "outputs": [
    {
     "data": {
      "text/plain": [
       "128"
      ]
     },
     "execution_count": 49,
     "metadata": {},
     "output_type": "execute_result"
    }
   ],
   "source": [
    "np.sum(d == c)"
   ]
  },
  {
   "cell_type": "code",
   "execution_count": 50,
   "metadata": {},
   "outputs": [
    {
     "data": {
      "text/plain": [
       "((128,), (128,))"
      ]
     },
     "execution_count": 50,
     "metadata": {},
     "output_type": "execute_result"
    }
   ],
   "source": [
    "d.shape, c.shape"
   ]
  },
  {
   "cell_type": "code",
   "execution_count": null,
   "metadata": {},
   "outputs": [],
   "source": []
  }
 ],
 "metadata": {
  "kernelspec": {
   "display_name": "Python 3",
   "language": "python",
   "name": "python3"
  },
  "language_info": {
   "codemirror_mode": {
    "name": "ipython",
    "version": 3
   },
   "file_extension": ".py",
   "mimetype": "text/x-python",
   "name": "python",
   "nbconvert_exporter": "python",
   "pygments_lexer": "ipython3",
   "version": "3.7.4"
  }
 },
 "nbformat": 4,
 "nbformat_minor": 4
}
