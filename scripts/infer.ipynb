{
 "cells": [
  {
   "cell_type": "code",
   "execution_count": 1,
   "metadata": {},
   "outputs": [],
   "source": [
    "import os\n",
    "import pandas as pd\n"
   ]
  },
  {
   "cell_type": "code",
   "execution_count": 5,
   "metadata": {},
   "outputs": [],
   "source": [
    "def msu(protocol=1, proto_type=None):\n",
    "    csv_root_path = f\"/home/ec2-user/SageMaker/hasan/access_paper/gaze-research/csvs/siw_protocol/protocol_{protocol}/protocol_{protocol}\"\n",
    "    csv_root_dev  = f\"/home/ec2-user/SageMaker/hasan/access_paper/gaze-research/csvs/siw_protocol/SIW_DEVSET.csv\"\n",
    "    \n",
    "    if protocol>1 and proto_type is not None:\n",
    "        csv_root_path = f\"{csv_root_path}_type{proto_type}\"\n",
    "    if protocol ==1 and proto_type is not None:\n",
    "        print(f\"proto_type should be None for protocol 1\")\n",
    "    elif protocol>1 and proto_type is None:\n",
    "        print(f\"proto_type should not be none for protocol {protocol}\")\n",
    "   \n",
    "    TRAIN_CSV = pd.read_csv(f\"{csv_root_path}_train.csv\",low_memory=False)\n",
    "    TEST_CSV  = pd.read_csv(f\"{csv_root_path}_test.csv\",low_memory=False)\n",
    "    DEV_CSV   = pd.read_csv(f\"{csv_root_dev}\",low_memory=False) \n",
    "    print(\"DATASET INFORMATION: \")\n",
    "    print(\"MSU_SIW Protocol: \",protocol)\n",
    "    if proto_type is not None:protocol_1_Train\n",
    "        print(\"MSU_SIW Protocol Type: \",proto_type)\n",
    "    print(f\"TRAIN IMAGES: {len(TRAIN_CSV)} \\nTEST IMAGES: {len(TEST_CSV)} \\nDEV IMAGES: {len(DEV_CSV)}\")\n",
    "    return {\"train\": TRAIN_CSV[:50], \"val\": DEV_CSV[:50],\"test\":TEST_CSV[:50]}"
   ]
  },
  {
   "cell_type": "code",
   "execution_count": 6,
   "metadata": {},
   "outputs": [
    {
     "name": "stdout",
     "output_type": "stream",
     "text": [
      "DATASET INFORMATION: \n",
      "MSU_SIW Protocol:  1\n",
      "TRAIN IMAGES: 121311 \n",
      "TEST IMAGES: 1080496 \n",
      "DEV IMAGES: 400\n"
     ]
    }
   ],
   "source": [
    "datas = msu()"
   ]
  },
  {
   "cell_type": "code",
   "execution_count": 1,
   "metadata": {},
   "outputs": [],
   "source": [
    "import cv2"
   ]
  },
  {
   "cell_type": "code",
   "execution_count": null,
   "metadata": {},
   "outputs": [],
   "source": []
  }
 ],
 "metadata": {
  "kernelspec": {
   "display_name": "conda_pytorch_latest_p36",
   "language": "python",
   "name": "conda_pytorch_latest_p36"
  },
  "language_info": {
   "codemirror_mode": {
    "name": "ipython",
    "version": 3
   },
   "file_extension": ".py",
   "mimetype": "text/x-python",
   "name": "python",
   "nbconvert_exporter": "python",
   "pygments_lexer": "ipython3",
   "version": "3.6.10"
  }
 },
 "nbformat": 4,
 "nbformat_minor": 4
}
